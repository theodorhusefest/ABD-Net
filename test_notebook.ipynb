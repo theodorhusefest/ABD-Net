{
 "cells": [
  {
   "cell_type": "markdown",
   "metadata": {},
   "source": [
    "Testing Notebook"
   ]
  },
  {
   "cell_type": "code",
   "execution_count": 29,
   "metadata": {},
   "outputs": [],
   "source": [
    "import pandas as pd\n",
    "import numpy as np\n",
    "import os.path as osp"
   ]
  },
  {
   "cell_type": "code",
   "execution_count": 22,
   "metadata": {},
   "outputs": [],
   "source": [
    "datasheet = pd.read_csv(\"data/milestone3/video_1/yolov3_outputs/00000_persons_data.csv\")\n",
    "query = datasheet.replace(to_replace=r'/scratch/minoda/', value= './data/', regex= True)\n",
    "query.to_csv(\"data/milestone3/video_1/yolov3_outputs/query_list.csv\")\n",
    "query.to_csv(\"data/milestone3/video_1/yolov3_outputs/gallery_list.csv\")"
   ]
  },
  {
   "cell_type": "code",
   "execution_count": 10,
   "metadata": {},
   "outputs": [],
   "source": [
    "gallery = pd.DataFrame(columns = [\"image_id\", \"x\", \"y\", \"w\", \"h\", \"confidence\", \"filepath\", \"pid\"])"
   ]
  },
  {
   "cell_type": "code",
   "execution_count": 12,
   "metadata": {},
   "outputs": [],
   "source": [
    "gallery.to_csv(\"data/milestone3/video_1/yolov3_outputs/gallery.csv\")"
   ]
  },
  {
   "cell_type": "markdown",
   "metadata": {},
   "source": [
    "### 1-Idea\n",
    "Have an empty gallery, and add more\n",
    "\n",
    "### 2-Idea\n",
    "Assign random pid to gallery, and "
   ]
  },
  {
   "cell_type": "code",
   "execution_count": 30,
   "metadata": {},
   "outputs": [],
   "source": [
    "distmat = np.asarray(\n",
    "           [[ 5.9604645e-08,  9.4048572e-01,  1.3632776e+00,  1.4863836e+00, 2.4861825e-01], \n",
    "           [ 9.4048572e-01,  2.2053719e-06,  8.3109367e-01,  1.1044974e+00, 9.3526816e-01],\n",
    "           [ 1.3632776e+00,  8.3109367e-01,  1.3113022e-06,  1.0313121e+00, 1.4344358e+00],\n",
    "           [ 1.4863836e+00,  1.1044974e+00,  1.0313121e+00,  7.4505806e-07, 1.4191651e+00],\n",
    "           [ 2.4861842e-01,  9.3526834e-01,  1.4344363e+00,  1.4191661e+00, -1.0132790e-06]])"
   ]
  },
  {
   "cell_type": "code",
   "execution_count": 59,
   "metadata": {},
   "outputs": [
    {
     "name": "stdout",
     "output_type": "stream",
     "text": [
      "[[0 0]\n",
      " [0 4]\n",
      " [1 1]\n",
      " [2 2]\n",
      " [3 3]\n",
      " [4 0]\n",
      " [4 4]]\n",
      "[[0 0]\n",
      " [0 4]\n",
      " [1 1]\n",
      " [2 2]\n",
      " [3 3]\n",
      " [4 0]\n",
      " [4 4]]\n"
     ]
    }
   ],
   "source": [
    "candidates = np.argwhere(distmat < distmat.mean(axis = 0)/2)\n",
    "#candidates.sort()\n",
    "print(candidates)\n",
    "print(np.unique(candidates, axis= 0))\n"
   ]
  },
  {
   "cell_type": "code",
   "execution_count": 93,
   "metadata": {},
   "outputs": [
    {
     "name": "stdout",
     "output_type": "stream",
     "text": [
      "Base image of person:  0\n",
      "Another image of person  0\n",
      "Base image of person:  1\n",
      "Base image of person:  2\n",
      "Base image of person:  3\n"
     ]
    }
   ],
   "source": [
    "pid_dict = {}\n",
    "processed_images = set()\n",
    "for cand in candidates:\n",
    "    \n",
    "    if (cand[0] > cand[1]) or (cand[0] in processed_images):\n",
    "        # This means we are under-diagonal, will create duplicates\n",
    "        continue\n",
    "\n",
    "    if cand[0] == cand[1]:\n",
    "        pid = cand[0]\n",
    "        pid_dict[pid] = [pid]\n",
    "        print(\"Base image of person: \", pid)\n",
    "    elif pid == cand[0]:\n",
    "        print(\"Another image of person \", pid)\n",
    "        pid_dict[pid].append(cand[1])\n",
    "        processed_images.add(cand[1])\n",
    "        \n",
    "    "
   ]
  },
  {
   "cell_type": "code",
   "execution_count": 94,
   "metadata": {},
   "outputs": [
    {
     "data": {
      "text/plain": [
       "{0: [0, 4], 1: [1], 2: [2], 3: [3]}"
      ]
     },
     "execution_count": 94,
     "metadata": {},
     "output_type": "execute_result"
    }
   ],
   "source": [
    "pid_dict"
   ]
  },
  {
   "cell_type": "code",
   "execution_count": 70,
   "metadata": {},
   "outputs": [
    {
     "data": {
      "text/plain": [
       "{0, 1, 2, 3, 4}"
      ]
     },
     "execution_count": 70,
     "metadata": {},
     "output_type": "execute_result"
    }
   ],
   "source": [
    "images_processed"
   ]
  },
  {
   "cell_type": "code",
   "execution_count": null,
   "metadata": {},
   "outputs": [],
   "source": []
  }
 ],
 "metadata": {
  "kernelspec": {
   "display_name": "Python 3",
   "language": "python",
   "name": "python3"
  },
  "language_info": {
   "codemirror_mode": {
    "name": "ipython",
    "version": 3
   },
   "file_extension": ".py",
   "mimetype": "text/x-python",
   "name": "python",
   "nbconvert_exporter": "python",
   "pygments_lexer": "ipython3",
   "version": "3.7.4"
  }
 },
 "nbformat": 4,
 "nbformat_minor": 4
}
