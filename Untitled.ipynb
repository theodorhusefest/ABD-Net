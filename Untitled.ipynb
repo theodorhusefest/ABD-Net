{
 "cells": [
  {
   "cell_type": "markdown",
   "metadata": {},
   "source": [
    "Testing Notebook"
   ]
  },
  {
   "cell_type": "code",
   "execution_count": 20,
   "metadata": {},
   "outputs": [],
   "source": [
    "import pandas as pd\n",
    "import os.path as osp"
   ]
  },
  {
   "cell_type": "code",
   "execution_count": 22,
   "metadata": {},
   "outputs": [],
   "source": [
    "datasheet = pd.read_csv(\"data/milestone3/video_1/yolov3_outputs/00000_persons_data.csv\")\n",
    "query = datasheet.replace(to_replace=r'/scratch/minoda/', value= './data/', regex= True)\n",
    "query.to_csv(\"data/milestone3/video_1/yolov3_outputs/query_list.csv\")\n",
    "query.to_csv(\"data/milestone3/video_1/yolov3_outputs/gallery_list.csv\")"
   ]
  },
  {
   "cell_type": "code",
   "execution_count": 10,
   "metadata": {},
   "outputs": [],
   "source": [
    "gallery = pd.DataFrame(columns = [\"image_id\", \"x\", \"y\", \"w\", \"h\", \"confidence\", \"filepath\", \"pid\"])"
   ]
  },
  {
   "cell_type": "code",
   "execution_count": 12,
   "metadata": {},
   "outputs": [],
   "source": [
    "gallery.to_csv(\"data/milestone3/video_1/yolov3_outputs/gallery.csv\")"
   ]
  },
  {
   "cell_type": "markdown",
   "metadata": {},
   "source": [
    "### 1-Idea\n",
    "Have an empty gallery, and add more\n",
    "\n",
    "### 2-Idea\n",
    "Assign random pid to gallery, and "
   ]
  }
 ],
 "metadata": {
  "kernelspec": {
   "display_name": "Python 3",
   "language": "python",
   "name": "python3"
  },
  "language_info": {
   "codemirror_mode": {
    "name": "ipython",
    "version": 3
   },
   "file_extension": ".py",
   "mimetype": "text/x-python",
   "name": "python",
   "nbconvert_exporter": "python",
   "pygments_lexer": "ipython3",
   "version": "3.7.4"
  }
 },
 "nbformat": 4,
 "nbformat_minor": 4
}
